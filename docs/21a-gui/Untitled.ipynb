{
 "cells": [
  {
   "cell_type": "markdown",
   "id": "e89e5268",
   "metadata": {},
   "source": [
    "## 9. Widget `Listbox`\n",
    "\n",
    "- Widget `Listbox`: mantém uma lista de textos em uma caixa, podendo ser possível selecionar uma linha específica\n",
    "- Sintaxe: `widget = tk.Listbox(root, lista_itens)`\n",
    "    - Cria objeto `widget` do tipo `tk.Listbox` tendo como mestre o objeto `root` e adicionando cada string presente em `lista_itens` em uma linha do `Listbox`"
   ]
  },
  {
   "cell_type": "code",
   "execution_count": null,
   "id": "e98f2aa1",
   "metadata": {},
   "outputs": [],
   "source": [
    "import tkinter as tk\n",
    "\n",
    "def imprime_selecao():\n",
    "    tup = lb.curselection() # obtém tupla com todos os índices do listbox que estão selecionados\n",
    "    i = tup[0] # obtém o primeiro item selecionado\n",
    "    s = lista_itens[i] # obtém string da lista de strings \"apontada\" pelo listbox\n",
    "    print(f'Item selecionado: {s}')\n",
    "\n",
    "root = tk.Tk()\n",
    "\n",
    "lista_itens = ['item 0', 'item 1', 'item 2', 'item 3']\n",
    "v_lista_itens = tk.StringVar()\n",
    "v_lista_itens.set(lista_itens)\n",
    "\n",
    "lb = tk.Listbox(root, listvariable=v_lista_itens)\n",
    "lb.pack()\n",
    "\n",
    "but = tk.Button(root, text='Obtém Item', command=imprime_selecao)\n",
    "but.pack()\n",
    "\n",
    "root.mainloop()"
   ]
  },
  {
   "cell_type": "markdown",
   "id": "a1351e80",
   "metadata": {},
   "source": [
    "## Prática 3.2a - Lista de Filmes\n",
    "\n",
    "Implemente um aplicativo para armazenar uma lista de filmes\n",
    "que um usuário assistiu em Tkinter.\n",
    "O aplicativo de conter obrigatoriamente as operações de:\n",
    "\n",
    "- **Inserir** um filme na lista\n",
    "- **Atualizar** um filme já presente na lista\n",
    "- **Remover** um filme já presente na lista\n",
    "\n",
    "Você está livre para implementar o seu programa da maneira como achar mais conveniente, desde que utilize um `tk.Listbox` para armazenar a lista de filmes.\n",
    "\n",
    "Assume que o usuário é bem comportado: não precisa\n",
    "tratar exceções.\n",
    "\n",
    "Observe o vídeo a seguir com um exemplo da aplicação em funcionamento."
   ]
  },
  {
   "cell_type": "code",
   "execution_count": 1,
   "id": "9e782d7b",
   "metadata": {},
   "outputs": [
    {
     "data": {
      "text/html": [
       "<video width=\"300\" height=\"300\" controls>\n",
       "  <source src=\"https://raw.githubusercontent.com/ect-info/POO_2021.2/master/docs/22a-gui/tk_filmes.mp4\" type=\"video/mp4\">\n",
       "  #<source src=\"tk_filmes.mp4\" type=\"video/mp4\">\n",
       "</video>\n"
      ],
      "text/plain": [
       "<IPython.core.display.HTML object>"
      ]
     },
     "metadata": {},
     "output_type": "display_data"
    }
   ],
   "source": [
    "%%HTML\n",
    "<video width=\"300\" height=\"300\" controls>\n",
    "  <source src=\"https://raw.githubusercontent.com/ect-info/POO_2021.2/master/docs/22a-gui/tk_filmes.mp4\" type=\"video/mp4\">\n",
    "  #<source src=\"tk_filmes.mp4\" type=\"video/mp4\">\n",
    "</video>"
   ]
  },
  {
   "cell_type": "code",
   "execution_count": null,
   "id": "cbc79b3f",
   "metadata": {},
   "outputs": [],
   "source": []
  }
 ],
 "metadata": {
  "kernelspec": {
   "display_name": "Python 3 (ipykernel)",
   "language": "python",
   "name": "python3"
  },
  "language_info": {
   "codemirror_mode": {
    "name": "ipython",
    "version": 3
   },
   "file_extension": ".py",
   "mimetype": "text/x-python",
   "name": "python",
   "nbconvert_exporter": "python",
   "pygments_lexer": "ipython3",
   "version": "3.9.7"
  }
 },
 "nbformat": 4,
 "nbformat_minor": 5
}
