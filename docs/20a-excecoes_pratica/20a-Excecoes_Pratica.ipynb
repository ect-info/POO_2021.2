{
 "cells": [
  {
   "cell_type": "markdown",
   "id": "20457193",
   "metadata": {},
   "source": [
    "## Prática 3.1a - Livros e Biblioteca\n",
    "\n",
    "Um Livro contém como atributos um título, um ano e um código chamado ISBN.\n",
    "Uma biblioteca contém uma lista de livros e um método para cadastrar um livro na lista. Considerando que:\n",
    "\n",
    "- O título de um livro não pode ser a string vazia\n",
    "- O ano de um livro deve estar entre 1400 e 2100\n",
    "- O ISBN de um livro deve conter pelo menos 6 caracteres\n",
    "- O método `cadastra` da biblioteca deve informar erro se\n",
    "  o parâmetro não for um livro\n",
    "- Dois livros diferentes não podem conter o mesmo ISBN.\n",
    "- A biblioteca não pode armazenar um mesmo livro mais de uma vez.\n",
    "\n",
    "Implemente o sistema, com lançamento de exceções nos casos indicados.\n",
    "Para isto, defina uma classe exceção base para o módulo e uma classe exceção derivada da exceção base para cada situação de erro prevista.\n",
    "Então, implemente getters/setters (com `property`) de forma que as checagens sejam realizadas em cada `set`.\n",
    "\n",
    "O bloco `__main__` do programa deve instanciar livros e uma biblioteca. Na instanciação dos livros, as exceções devem ser tratadas pedindo ao usuário que insira novamente os dados\n",
    "com problemas (comando `input`):"
   ]
  },
  {
   "cell_type": "code",
   "execution_count": null,
   "id": "a5998fd9",
   "metadata": {},
   "outputs": [],
   "source": [
    "# dentro de um bloco try na __main__\n",
    "l1 = Livro()\n",
    "l1.titulo = ''"
   ]
  },
  {
   "cell_type": "markdown",
   "id": "fd34013c",
   "metadata": {},
   "source": [
    "Para uma exceção de livro com título vazio,\n",
    "as seguintes mensagens deverão ser impressas,\n",
    "com o usuário inserindo um título válido em seguida:\n",
    "\n",
    "```\n",
    ">ExcecaoTituloLivro: Título do livro deve ser uma string não vazia\n",
    ">Insira um novo título para o livro:\n",
    "```"
   ]
  },
  {
   "cell_type": "code",
   "execution_count": null,
   "id": "7465f6eb",
   "metadata": {},
   "outputs": [],
   "source": []
  }
 ],
 "metadata": {
  "kernelspec": {
   "display_name": "Python 3 (ipykernel)",
   "language": "python",
   "name": "python3"
  },
  "language_info": {
   "codemirror_mode": {
    "name": "ipython",
    "version": 3
   },
   "file_extension": ".py",
   "mimetype": "text/x-python",
   "name": "python",
   "nbconvert_exporter": "python",
   "pygments_lexer": "ipython3",
   "version": "3.9.7"
  }
 },
 "nbformat": 4,
 "nbformat_minor": 5
}
